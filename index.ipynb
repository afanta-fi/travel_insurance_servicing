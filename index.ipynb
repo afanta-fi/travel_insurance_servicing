{
 "cells": [
  {
   "cell_type": "markdown",
   "metadata": {
    "toc": true
   },
   "source": [
    "<h1>Table of Contents<span class=\"tocSkip\"></span></h1>\n",
    "<div class=\"toc\"><ul class=\"toc-item\"><li><span><a href=\"#Business-Understanding\" data-toc-modified-id=\"Business-Understanding-1\"><span class=\"toc-item-num\">1&nbsp;&nbsp;</span>Business Understanding</a></span></li><li><span><a href=\"#Data-Understanding\" data-toc-modified-id=\"Data-Understanding-2\"><span class=\"toc-item-num\">2&nbsp;&nbsp;</span>Data Understanding</a></span><ul class=\"toc-item\"><li><span><a href=\"#Correlation-of-Features\" data-toc-modified-id=\"Correlation-of-Features-2.1\"><span class=\"toc-item-num\">2.1&nbsp;&nbsp;</span>Correlation of Features</a></span></li></ul></li><li><span><a href=\"#Data-Preparation\" data-toc-modified-id=\"Data-Preparation-3\"><span class=\"toc-item-num\">3&nbsp;&nbsp;</span>Data Preparation</a></span></li><li><span><a href=\"#Modeling\" data-toc-modified-id=\"Modeling-4\"><span class=\"toc-item-num\">4&nbsp;&nbsp;</span>Modeling</a></span><ul class=\"toc-item\"><li><span><a href=\"#Normalization\" data-toc-modified-id=\"Normalization-4.1\"><span class=\"toc-item-num\">4.1&nbsp;&nbsp;</span>Normalization</a></span><ul class=\"toc-item\"><li><span><a href=\"#Class-Imbalance:-Over-Sampling\" data-toc-modified-id=\"Class-Imbalance:-Over-Sampling-4.1.1\"><span class=\"toc-item-num\">4.1.1&nbsp;&nbsp;</span>Class Imbalance: Over Sampling</a></span></li><li><span><a href=\"#Class-Imbalance:-Class-Weight\" data-toc-modified-id=\"Class-Imbalance:-Class-Weight-4.1.2\"><span class=\"toc-item-num\">4.1.2&nbsp;&nbsp;</span>Class Imbalance: Class Weight</a></span></li></ul></li><li><span><a href=\"#Logistic-Regression\" data-toc-modified-id=\"Logistic-Regression-4.2\"><span class=\"toc-item-num\">4.2&nbsp;&nbsp;</span>Logistic Regression</a></span><ul class=\"toc-item\"><li><span><a href=\"#Hyperparametrization:-Regularization\" data-toc-modified-id=\"Hyperparametrization:-Regularization-4.2.1\"><span class=\"toc-item-num\">4.2.1&nbsp;&nbsp;</span>Hyperparametrization: Regularization</a></span></li><li><span><a href=\"#Cross-Validation\" data-toc-modified-id=\"Cross-Validation-4.2.2\"><span class=\"toc-item-num\">4.2.2&nbsp;&nbsp;</span>Cross Validation</a></span></li></ul></li><li><span><a href=\"#K-Nearest-Neighbor\" data-toc-modified-id=\"K-Nearest-Neighbor-4.3\"><span class=\"toc-item-num\">4.3&nbsp;&nbsp;</span>K Nearest Neighbor</a></span><ul class=\"toc-item\"><li><span><a href=\"#Hyperparametrization:-Best-n_neighbors\" data-toc-modified-id=\"Hyperparametrization:-Best-n_neighbors-4.3.1\"><span class=\"toc-item-num\">4.3.1&nbsp;&nbsp;</span>Hyperparametrization: Best <code>n_neighbors</code></a></span></li></ul></li><li><span><a href=\"#Support-Vector-Machine\" data-toc-modified-id=\"Support-Vector-Machine-4.4\"><span class=\"toc-item-num\">4.4&nbsp;&nbsp;</span>Support Vector Machine</a></span><ul class=\"toc-item\"><li><span><a href=\"#Baseline-Model\" data-toc-modified-id=\"Baseline-Model-4.4.1\"><span class=\"toc-item-num\">4.4.1&nbsp;&nbsp;</span>Baseline Model</a></span></li></ul></li><li><span><a href=\"#Decision-Tree\" data-toc-modified-id=\"Decision-Tree-4.5\"><span class=\"toc-item-num\">4.5&nbsp;&nbsp;</span>Decision Tree</a></span></li><li><span><a href=\"#Random-Forest\" data-toc-modified-id=\"Random-Forest-4.6\"><span class=\"toc-item-num\">4.6&nbsp;&nbsp;</span>Random Forest</a></span></li><li><span><a href=\"#Gradient-Boost\" data-toc-modified-id=\"Gradient-Boost-4.7\"><span class=\"toc-item-num\">4.7&nbsp;&nbsp;</span>Gradient Boost</a></span><ul class=\"toc-item\"><li><span><a href=\"#XGBoost\" data-toc-modified-id=\"XGBoost-4.7.1\"><span class=\"toc-item-num\">4.7.1&nbsp;&nbsp;</span>XGBoost</a></span></li><li><span><a href=\"#CatBoost\" data-toc-modified-id=\"CatBoost-4.7.2\"><span class=\"toc-item-num\">4.7.2&nbsp;&nbsp;</span>CatBoost</a></span></li></ul></li><li><span><a href=\"#Grid-Search\" data-toc-modified-id=\"Grid-Search-4.8\"><span class=\"toc-item-num\">4.8&nbsp;&nbsp;</span>Grid Search</a></span></li><li><span><a href=\"#Final-Model\" data-toc-modified-id=\"Final-Model-4.9\"><span class=\"toc-item-num\">4.9&nbsp;&nbsp;</span>Final Model</a></span></li></ul></li><li><span><a href=\"#Evaluation\" data-toc-modified-id=\"Evaluation-5\"><span class=\"toc-item-num\">5&nbsp;&nbsp;</span>Evaluation</a></span><ul class=\"toc-item\"><li><span><a href=\"#Model-Performance\" data-toc-modified-id=\"Model-Performance-5.1\"><span class=\"toc-item-num\">5.1&nbsp;&nbsp;</span>Model Performance</a></span></li><li><span><a href=\"#ML-Pipeline\" data-toc-modified-id=\"ML-Pipeline-5.2\"><span class=\"toc-item-num\">5.2&nbsp;&nbsp;</span>ML Pipeline</a></span></li><li><span><a href=\"#SHAP-Values\" data-toc-modified-id=\"SHAP-Values-5.3\"><span class=\"toc-item-num\">5.3&nbsp;&nbsp;</span>SHAP Values</a></span></li></ul></li></ul></div>"
   ]
  },
  {
   "cell_type": "markdown",
   "metadata": {},
   "source": [
    "# Business Understanding"
   ]
  },
  {
   "cell_type": "code",
   "execution_count": 45,
   "metadata": {},
   "outputs": [],
   "source": [
    "# ! pip install catboost\n",
    "# ! pip install shap "
   ]
  },
  {
   "cell_type": "markdown",
   "metadata": {},
   "source": [
    "# Data Understanding"
   ]
  },
  {
   "cell_type": "code",
   "execution_count": null,
   "metadata": {},
   "outputs": [],
   "source": []
  },
  {
   "cell_type": "code",
   "execution_count": 46,
   "metadata": {},
   "outputs": [],
   "source": [
    "# Import important libraries\n",
    "import os\n",
    "import pandas as pd\n",
    "import matplotlib.pyplot as plt\n",
    "import seaborn as sns \n",
    "import numpy as np\n",
    "import plotly.express as px\n",
    "from bs4 import BeautifulSoup\n",
    "import requests\n",
    "from sklearn.preprocessing import LabelEncoder,StandardScaler \n",
    "from sklearn.utils.class_weight import compute_class_weight\n",
    "from sklearn.model_selection import train_test_split,GridSearchCV,cross_val_score\n",
    "from imblearn.over_sampling import SMOTE, RandomOverSampler, ADASYN\n",
    "from sklearn.linear_model import LogisticRegression\n",
    "from sklearn.neighbors import KNeighborsClassifier\n",
    "from sklearn.svm import SVC \n",
    "from sklearn.metrics import precision_score,accuracy_score,recall_score,f1_score\n",
    "from sklearn.metrics import log_loss,roc_curve,auc,confusion_matrix,classification_report\n",
    "from sklearn.tree import DecisionTreeClassifier\n",
    "from sklearn.ensemble import BaggingClassifier, RandomForestClassifier\n",
    "from xgboost.sklearn import XGBClassifier \n",
    "from catboost import Pool, CatBoostClassifier\n",
    "import shap \n",
    "\n",
    "# Enable inline ploting\n",
    "%matplotlib inline \n"
   ]
  },
  {
   "cell_type": "code",
   "execution_count": 47,
   "metadata": {},
   "outputs": [
    {
     "data": {
      "text/html": [
       "<div>\n",
       "<style scoped>\n",
       "    .dataframe tbody tr th:only-of-type {\n",
       "        vertical-align: middle;\n",
       "    }\n",
       "\n",
       "    .dataframe tbody tr th {\n",
       "        vertical-align: top;\n",
       "    }\n",
       "\n",
       "    .dataframe thead th {\n",
       "        text-align: right;\n",
       "    }\n",
       "</style>\n",
       "<table border=\"1\" class=\"dataframe\">\n",
       "  <thead>\n",
       "    <tr style=\"text-align: right;\">\n",
       "      <th></th>\n",
       "      <th>Agency</th>\n",
       "      <th>Agency Type</th>\n",
       "      <th>Distribution Channel</th>\n",
       "      <th>Product Name</th>\n",
       "      <th>Claim</th>\n",
       "      <th>Duration</th>\n",
       "      <th>Destination</th>\n",
       "      <th>Net Sales</th>\n",
       "      <th>Commision (in value)</th>\n",
       "      <th>Gender</th>\n",
       "      <th>Age</th>\n",
       "    </tr>\n",
       "  </thead>\n",
       "  <tbody>\n",
       "    <tr>\n",
       "      <th>0</th>\n",
       "      <td>CBH</td>\n",
       "      <td>Travel Agency</td>\n",
       "      <td>Offline</td>\n",
       "      <td>Comprehensive Plan</td>\n",
       "      <td>No</td>\n",
       "      <td>186</td>\n",
       "      <td>MALAYSIA</td>\n",
       "      <td>-29.0</td>\n",
       "      <td>9.57</td>\n",
       "      <td>F</td>\n",
       "      <td>81</td>\n",
       "    </tr>\n",
       "    <tr>\n",
       "      <th>1</th>\n",
       "      <td>CBH</td>\n",
       "      <td>Travel Agency</td>\n",
       "      <td>Offline</td>\n",
       "      <td>Comprehensive Plan</td>\n",
       "      <td>No</td>\n",
       "      <td>186</td>\n",
       "      <td>MALAYSIA</td>\n",
       "      <td>-29.0</td>\n",
       "      <td>9.57</td>\n",
       "      <td>F</td>\n",
       "      <td>71</td>\n",
       "    </tr>\n",
       "    <tr>\n",
       "      <th>2</th>\n",
       "      <td>CWT</td>\n",
       "      <td>Travel Agency</td>\n",
       "      <td>Online</td>\n",
       "      <td>Rental Vehicle Excess Insurance</td>\n",
       "      <td>No</td>\n",
       "      <td>65</td>\n",
       "      <td>AUSTRALIA</td>\n",
       "      <td>-49.5</td>\n",
       "      <td>29.70</td>\n",
       "      <td>NaN</td>\n",
       "      <td>32</td>\n",
       "    </tr>\n",
       "    <tr>\n",
       "      <th>3</th>\n",
       "      <td>CWT</td>\n",
       "      <td>Travel Agency</td>\n",
       "      <td>Online</td>\n",
       "      <td>Rental Vehicle Excess Insurance</td>\n",
       "      <td>No</td>\n",
       "      <td>60</td>\n",
       "      <td>AUSTRALIA</td>\n",
       "      <td>-39.6</td>\n",
       "      <td>23.76</td>\n",
       "      <td>NaN</td>\n",
       "      <td>32</td>\n",
       "    </tr>\n",
       "    <tr>\n",
       "      <th>4</th>\n",
       "      <td>CWT</td>\n",
       "      <td>Travel Agency</td>\n",
       "      <td>Online</td>\n",
       "      <td>Rental Vehicle Excess Insurance</td>\n",
       "      <td>No</td>\n",
       "      <td>79</td>\n",
       "      <td>ITALY</td>\n",
       "      <td>-19.8</td>\n",
       "      <td>11.88</td>\n",
       "      <td>NaN</td>\n",
       "      <td>41</td>\n",
       "    </tr>\n",
       "  </tbody>\n",
       "</table>\n",
       "</div>"
      ],
      "text/plain": [
       "  Agency    Agency Type Distribution Channel                     Product Name  \\\n",
       "0    CBH  Travel Agency              Offline               Comprehensive Plan   \n",
       "1    CBH  Travel Agency              Offline               Comprehensive Plan   \n",
       "2    CWT  Travel Agency               Online  Rental Vehicle Excess Insurance   \n",
       "3    CWT  Travel Agency               Online  Rental Vehicle Excess Insurance   \n",
       "4    CWT  Travel Agency               Online  Rental Vehicle Excess Insurance   \n",
       "\n",
       "  Claim  Duration Destination  Net Sales  Commision (in value) Gender  Age  \n",
       "0    No       186    MALAYSIA      -29.0                  9.57      F   81  \n",
       "1    No       186    MALAYSIA      -29.0                  9.57      F   71  \n",
       "2    No        65   AUSTRALIA      -49.5                 29.70    NaN   32  \n",
       "3    No        60   AUSTRALIA      -39.6                 23.76    NaN   32  \n",
       "4    No        79       ITALY      -19.8                 11.88    NaN   41  "
      ]
     },
     "execution_count": 47,
     "metadata": {},
     "output_type": "execute_result"
    }
   ],
   "source": [
    "# Import data\n",
    "df = pd.read_csv('data/travel_insurance.csv')\n",
    "df.head()"
   ]
  },
  {
   "cell_type": "markdown",
   "metadata": {},
   "source": [
    "Before moving on, it is best to adjust the column names and substitute spaces with `_` and have all columns in lower cases for good measure. In addition, one column has a bracket, which can also lead to an inconvenience. The following code block handles those issue. "
   ]
  },
  {
   "cell_type": "code",
   "execution_count": 48,
   "metadata": {},
   "outputs": [],
   "source": [
    "df.columns = [s[:s.find('(')] if '(' in s else s for s in df.columns]\n",
    "df.columns = ['_'.join(s.lower().split()) for s in df.columns]"
   ]
  },
  {
   "cell_type": "markdown",
   "metadata": {},
   "source": [
    "We can use `.info()` to understand the type and completeness of the data provided. "
   ]
  },
  {
   "cell_type": "code",
   "execution_count": 49,
   "metadata": {
    "scrolled": true
   },
   "outputs": [
    {
     "name": "stdout",
     "output_type": "stream",
     "text": [
      "<class 'pandas.core.frame.DataFrame'>\n",
      "RangeIndex: 63326 entries, 0 to 63325\n",
      "Data columns (total 11 columns):\n",
      " #   Column                Non-Null Count  Dtype  \n",
      "---  ------                --------------  -----  \n",
      " 0   agency                63326 non-null  object \n",
      " 1   agency_type           63326 non-null  object \n",
      " 2   distribution_channel  63326 non-null  object \n",
      " 3   product_name          63326 non-null  object \n",
      " 4   claim                 63326 non-null  object \n",
      " 5   duration              63326 non-null  int64  \n",
      " 6   destination           63326 non-null  object \n",
      " 7   net_sales             63326 non-null  float64\n",
      " 8   commision             63326 non-null  float64\n",
      " 9   gender                18219 non-null  object \n",
      " 10  age                   63326 non-null  int64  \n",
      "dtypes: float64(2), int64(2), object(7)\n",
      "memory usage: 5.3+ MB\n"
     ]
    }
   ],
   "source": [
    "df.info()"
   ]
  },
  {
   "cell_type": "code",
   "execution_count": 50,
   "metadata": {},
   "outputs": [
    {
     "data": {
      "text/html": [
       "<div>\n",
       "<style scoped>\n",
       "    .dataframe tbody tr th:only-of-type {\n",
       "        vertical-align: middle;\n",
       "    }\n",
       "\n",
       "    .dataframe tbody tr th {\n",
       "        vertical-align: top;\n",
       "    }\n",
       "\n",
       "    .dataframe thead th {\n",
       "        text-align: right;\n",
       "    }\n",
       "</style>\n",
       "<table border=\"1\" class=\"dataframe\">\n",
       "  <thead>\n",
       "    <tr style=\"text-align: right;\">\n",
       "      <th></th>\n",
       "      <th>duration</th>\n",
       "      <th>net_sales</th>\n",
       "      <th>commision</th>\n",
       "      <th>age</th>\n",
       "    </tr>\n",
       "  </thead>\n",
       "  <tbody>\n",
       "    <tr>\n",
       "      <th>count</th>\n",
       "      <td>63326.000000</td>\n",
       "      <td>63326.000000</td>\n",
       "      <td>63326.000000</td>\n",
       "      <td>63326.000000</td>\n",
       "    </tr>\n",
       "    <tr>\n",
       "      <th>mean</th>\n",
       "      <td>49.317074</td>\n",
       "      <td>40.702018</td>\n",
       "      <td>9.809992</td>\n",
       "      <td>39.969981</td>\n",
       "    </tr>\n",
       "    <tr>\n",
       "      <th>std</th>\n",
       "      <td>101.791566</td>\n",
       "      <td>48.845637</td>\n",
       "      <td>19.804388</td>\n",
       "      <td>14.017010</td>\n",
       "    </tr>\n",
       "    <tr>\n",
       "      <th>min</th>\n",
       "      <td>-2.000000</td>\n",
       "      <td>-389.000000</td>\n",
       "      <td>0.000000</td>\n",
       "      <td>0.000000</td>\n",
       "    </tr>\n",
       "    <tr>\n",
       "      <th>25%</th>\n",
       "      <td>9.000000</td>\n",
       "      <td>18.000000</td>\n",
       "      <td>0.000000</td>\n",
       "      <td>35.000000</td>\n",
       "    </tr>\n",
       "    <tr>\n",
       "      <th>50%</th>\n",
       "      <td>22.000000</td>\n",
       "      <td>26.530000</td>\n",
       "      <td>0.000000</td>\n",
       "      <td>36.000000</td>\n",
       "    </tr>\n",
       "    <tr>\n",
       "      <th>75%</th>\n",
       "      <td>53.000000</td>\n",
       "      <td>48.000000</td>\n",
       "      <td>11.550000</td>\n",
       "      <td>43.000000</td>\n",
       "    </tr>\n",
       "    <tr>\n",
       "      <th>max</th>\n",
       "      <td>4881.000000</td>\n",
       "      <td>810.000000</td>\n",
       "      <td>283.500000</td>\n",
       "      <td>118.000000</td>\n",
       "    </tr>\n",
       "  </tbody>\n",
       "</table>\n",
       "</div>"
      ],
      "text/plain": [
       "           duration     net_sales     commision           age\n",
       "count  63326.000000  63326.000000  63326.000000  63326.000000\n",
       "mean      49.317074     40.702018      9.809992     39.969981\n",
       "std      101.791566     48.845637     19.804388     14.017010\n",
       "min       -2.000000   -389.000000      0.000000      0.000000\n",
       "25%        9.000000     18.000000      0.000000     35.000000\n",
       "50%       22.000000     26.530000      0.000000     36.000000\n",
       "75%       53.000000     48.000000     11.550000     43.000000\n",
       "max     4881.000000    810.000000    283.500000    118.000000"
      ]
     },
     "execution_count": 50,
     "metadata": {},
     "output_type": "execute_result"
    }
   ],
   "source": [
    "df.describe()"
   ]
  },
  {
   "cell_type": "code",
   "execution_count": 51,
   "metadata": {},
   "outputs": [
    {
     "data": {
      "text/plain": [
       "(62643, 11)"
      ]
     },
     "execution_count": 51,
     "metadata": {},
     "output_type": "execute_result"
    }
   ],
   "source": [
    "\n",
    "df.drop(df[df.duration<0].index, inplace=True)\n",
    "\n",
    "df.drop(df[df.net_sales<0].index, inplace=True)\n",
    "\n",
    "df.shape"
   ]
  },
  {
   "cell_type": "code",
   "execution_count": 52,
   "metadata": {},
   "outputs": [
    {
     "data": {
      "text/html": [
       "<div>\n",
       "<style scoped>\n",
       "    .dataframe tbody tr th:only-of-type {\n",
       "        vertical-align: middle;\n",
       "    }\n",
       "\n",
       "    .dataframe tbody tr th {\n",
       "        vertical-align: top;\n",
       "    }\n",
       "\n",
       "    .dataframe thead th {\n",
       "        text-align: right;\n",
       "    }\n",
       "</style>\n",
       "<table border=\"1\" class=\"dataframe\">\n",
       "  <thead>\n",
       "    <tr style=\"text-align: right;\">\n",
       "      <th></th>\n",
       "      <th>duration</th>\n",
       "      <th>net_sales</th>\n",
       "      <th>commision</th>\n",
       "      <th>age</th>\n",
       "    </tr>\n",
       "  </thead>\n",
       "  <tbody>\n",
       "    <tr>\n",
       "      <th>count</th>\n",
       "      <td>62643.000000</td>\n",
       "      <td>62643.000000</td>\n",
       "      <td>62643.000000</td>\n",
       "      <td>62643.000000</td>\n",
       "    </tr>\n",
       "    <tr>\n",
       "      <th>mean</th>\n",
       "      <td>48.960921</td>\n",
       "      <td>41.803969</td>\n",
       "      <td>9.655532</td>\n",
       "      <td>39.957202</td>\n",
       "    </tr>\n",
       "    <tr>\n",
       "      <th>std</th>\n",
       "      <td>101.929382</td>\n",
       "      <td>47.635665</td>\n",
       "      <td>19.668634</td>\n",
       "      <td>13.984385</td>\n",
       "    </tr>\n",
       "    <tr>\n",
       "      <th>min</th>\n",
       "      <td>0.000000</td>\n",
       "      <td>0.000000</td>\n",
       "      <td>0.000000</td>\n",
       "      <td>0.000000</td>\n",
       "    </tr>\n",
       "    <tr>\n",
       "      <th>25%</th>\n",
       "      <td>9.000000</td>\n",
       "      <td>18.000000</td>\n",
       "      <td>0.000000</td>\n",
       "      <td>35.000000</td>\n",
       "    </tr>\n",
       "    <tr>\n",
       "      <th>50%</th>\n",
       "      <td>22.000000</td>\n",
       "      <td>27.000000</td>\n",
       "      <td>0.000000</td>\n",
       "      <td>36.000000</td>\n",
       "    </tr>\n",
       "    <tr>\n",
       "      <th>75%</th>\n",
       "      <td>52.000000</td>\n",
       "      <td>49.000000</td>\n",
       "      <td>10.640000</td>\n",
       "      <td>43.000000</td>\n",
       "    </tr>\n",
       "    <tr>\n",
       "      <th>max</th>\n",
       "      <td>4881.000000</td>\n",
       "      <td>810.000000</td>\n",
       "      <td>283.500000</td>\n",
       "      <td>118.000000</td>\n",
       "    </tr>\n",
       "  </tbody>\n",
       "</table>\n",
       "</div>"
      ],
      "text/plain": [
       "           duration     net_sales     commision           age\n",
       "count  62643.000000  62643.000000  62643.000000  62643.000000\n",
       "mean      48.960921     41.803969      9.655532     39.957202\n",
       "std      101.929382     47.635665     19.668634     13.984385\n",
       "min        0.000000      0.000000      0.000000      0.000000\n",
       "25%        9.000000     18.000000      0.000000     35.000000\n",
       "50%       22.000000     27.000000      0.000000     36.000000\n",
       "75%       52.000000     49.000000     10.640000     43.000000\n",
       "max     4881.000000    810.000000    283.500000    118.000000"
      ]
     },
     "execution_count": 52,
     "metadata": {},
     "output_type": "execute_result"
    }
   ],
   "source": [
    "df.describe()"
   ]
  },
  {
   "cell_type": "markdown",
   "metadata": {},
   "source": [
    "Now, this is more workable setting. Before moving on, it is clear that `gender` has `NaN` value. The following code isolates the column."
   ]
  },
  {
   "cell_type": "code",
   "execution_count": 53,
   "metadata": {},
   "outputs": [
    {
     "data": {
      "text/plain": [
       "Index(['gender'], dtype='object')"
      ]
     },
     "execution_count": 53,
     "metadata": {},
     "output_type": "execute_result"
    }
   ],
   "source": [
    "na_cols = df.loc[df.isnull().any(axis=1),\n",
    "                          df.columns[df.isnull().any()]].columns\n",
    "na_cols"
   ]
  },
  {
   "cell_type": "code",
   "execution_count": 54,
   "metadata": {},
   "outputs": [
    {
     "data": {
      "image/png": "[encoded data removed]",
      "text/plain": [
       "<Figure size 1080x576 with 4 Axes>"
      ]
     },
     "metadata": {},
     "output_type": "display_data"
    }
   ],
   "source": [
    "# Set seaborn style \n",
    "sns.set_style('darkgrid')\n",
    "\n",
    "# Select numeric columns from the dataframe \n",
    "numerics = ['int64', 'float64']\n",
    "num_cols = df.select_dtypes(include=numerics).columns\n",
    "\n",
    "# Plot the distribution of numeric columns\n",
    "fig, axes = plt.subplots(2, 2, figsize=(15, 8))\n",
    "for ax, col in zip(axes.flatten(),num_cols):\n",
    "    sns.histplot(df[col], \n",
    "                 color='tab:blue',ax=ax,bins=10).set_title(col,fontsize=15)\n",
    "    # Hide xlabel\n",
    "    ax.set_xlabel('')\n",
    "\n",
    "# Adjust vertical spacing between subplots \n",
    "plt.subplots_adjust(hspace = 0.3);\n",
    "\n",
    "# Save plot\n",
    "#plt.savefig('images/features_hist.png')"
   ]
  },
  {
   "cell_type": "code",
   "execution_count": 55,
   "metadata": {},
   "outputs": [],
   "source": [
    "# Helper function to convert pandas series to dataframe \n",
    "def series_2_dataframe(s, cols):\n",
    "    # Create a dataframe and reset index\n",
    "    s = pd.DataFrame(s).reset_index()    \n",
    "    # Rename columns and return dataframe \n",
    "    s.columns = cols    \n",
    "    return s"
   ]
  },
  {
   "cell_type": "markdown",
   "metadata": {},
   "source": [
    "Based on a cursory look at the structure of the dataset, it is possible to identify some columns that can have binary entries, such as `claim` and `distribution_channel`. Let's see which other column(s) have only two unique values.   "
   ]
  },
  {
   "cell_type": "code",
   "execution_count": 56,
   "metadata": {},
   "outputs": [
    {
     "data": {
      "image/png": "[encoded data removed]",
      "text/plain": [
       "<Figure size 1440x432 with 3 Axes>"
      ]
     },
     "metadata": {},
     "output_type": "display_data"
    },
    {
     "data": {
      "image/png": "[encoded data removed]",
      "text/plain": [
       "<Figure size 1440x720 with 2 Axes>"
      ]
     },
     "metadata": {},
     "output_type": "display_data"
    }
   ],
   "source": [
    "# Create a dataframe with the number of unique values in each column of df   \n",
    "unique_df = series_2_dataframe(df.nunique(),['column','unique_vals'])\n",
    "\n",
    "# Select columns with binary choices\n",
    "bin_cat_cols = unique_df[unique_df.unique_vals==2]['column']\n",
    "\n",
    "# Exclude columns with NaN values\n",
    "bin_cat_cols = [col for col in bin_cat_cols if col!=na_cols]\n",
    "\n",
    "# Plot the distribution of binary columns\n",
    "fig, axes = plt.subplots(1, 3, figsize=(20, 6))\n",
    "for ax, col in zip(axes.flatten(), bin_cat_cols):\n",
    "    # Create a histogram \n",
    "    g = sns.histplot(df[col], ax=ax, color='tab:blue')\n",
    "        \n",
    "    # Set title, font size, remove xlable and set ylabel as 'Count' \n",
    "    g.set_title(col, fontsize=18)\n",
    "    g.set_xlabel('')\n",
    "    g.set_ylabel('Count',fontsize=13)    \n",
    "\n",
    "# Set the width between plots \n",
    "plt.subplots_adjust(wspace = 0.3);    \n",
    "\n",
    "# Find catagorical columns that are not in either numerical and binary columns\n",
    "non_bin_cat_cols = [col for col in df.columns if col not in bin_cat_cols and col not in num_cols]\n",
    "\n",
    "# Exclude columns with NaN values\n",
    "non_bin_cat_cols = [col for col in non_bin_cat_cols if col!=na_cols]\n",
    "\n",
    "# Plot the distribution of catafgorical with more than two unique values \n",
    "fig, axes = plt.subplots(2, 1, figsize=(20, 10))\n",
    "for ax, col in zip(axes.flatten(), non_bin_cat_cols):\n",
    "    # Preprocessing stage\n",
    "    # Create a count dataframe for an easier plot in bar graph \n",
    "    # instead of histogram  \n",
    "    tmp_df = series_2_dataframe(df[col].value_counts(), [col, 'Count'])\n",
    "    \n",
    "    # Create a bar graph \n",
    "    g = sns.barplot(x=col, y='Count',data=tmp_df, ax=ax, color='tab:blue')\n",
    "        \n",
    "    # Set title, font size, remove xlable and set ylabel as 'Count' \n",
    "    g.set_title(col, fontsize=18)\n",
    "    g.set_xlabel('')\n",
    "    g.set_ylabel('Count',fontsize=13)\n",
    "    \n",
    "    # Rotate xtick labels for readability\n",
    "    g.set_xticklabels(g.get_xticklabels(), rotation=45, horizontalalignment='right')\n",
    "\n",
    "# Adjust vertical spacing between subplots\n",
    "plt.subplots_adjust(hspace = 0.5);\n",
    "\n",
    "# Save plot\n",
    "#plt.savefig('images/features_hist.png')"
   ]
  },
  {
   "cell_type": "code",
   "execution_count": 57,
   "metadata": {},
   "outputs": [
    {
     "data": {
      "image/png": "[encoded data removed]",
      "text/plain": [
       "<Figure size 1440x1440 with 4 Axes>"
      ]
     },
     "metadata": {},
     "output_type": "display_data"
    }
   ],
   "source": [
    "# Averages of numeric columns\n",
    "mean_df = df.groupby('agency').mean()\n",
    "\n",
    "# Find yes claims in the groups \n",
    "yes_df = df[df.claim=='Yes'].groupby('agency').count()\n",
    "\n",
    "# Select columns in 'yes_df'\n",
    "yes_df = yes_df[mean_df.columns]\n",
    "\n",
    "# Calculate the ratio of 'yes' claims to total\n",
    "total_df = df.groupby('agency').count()[mean_df.columns]\n",
    "mean_yes_df = mean_df*yes_df/total_df \n",
    "\n",
    "\n",
    "# Plot the distribution of categorical with more than two unique values \n",
    "fig, axes = plt.subplots(4, 1, figsize=(20, 20))\n",
    "\n",
    "for ax, col in zip(axes.flatten(), mean_df):\n",
    "    # Preprocessing stage\n",
    "    # Create a count dataframe for an easier plot in bar graph \n",
    "    # instead of histogram \n",
    "    value = 'Avg ' + ' '.join(col.split('_'))\n",
    "    \n",
    "    tmp_df = series_2_dataframe(mean_df[col], \n",
    "                                ['Agency', value]).sort_values(by=value)\n",
    "    \n",
    "    # Create a bar graph \n",
    "    g = sns.barplot(x='Agency', y=value, data=tmp_df, ax=ax, color='tab:blue',\n",
    "                    label='Total mean')\n",
    "    \n",
    "    tmp_df = series_2_dataframe(mean_yes_df[col], \n",
    "                                ['Agency', value]).sort_values(by=value)\n",
    "    \n",
    "    # Create a bar graph \n",
    "    g = sns.barplot(x='Agency', y=value, data=tmp_df, ax=ax, color='tab:red',\n",
    "                    label='Yes claims')\n",
    "    \n",
    "        \n",
    "    # Set title, font size, remove xlable and set ylabel as 'Count' \n",
    "    g.set_title(col, fontsize=18)\n",
    "    g.set_xlabel('')\n",
    "    g.set_ylabel(value,fontsize=13)\n",
    "    g.legend()\n",
    "    \n",
    "# Adjust vertical spacing between subplots\n",
    "plt.subplots_adjust(hspace = 0.5);\n"
   ]
  },
  {
   "cell_type": "code",
   "execution_count": 58,
   "metadata": {},
   "outputs": [
    {
     "data": {
      "text/html": [
       "<div>\n",
       "<style scoped>\n",
       "    .dataframe tbody tr th:only-of-type {\n",
       "        vertical-align: middle;\n",
       "    }\n",
       "\n",
       "    .dataframe tbody tr th {\n",
       "        vertical-align: top;\n",
       "    }\n",
       "\n",
       "    .dataframe thead th {\n",
       "        text-align: right;\n",
       "    }\n",
       "</style>\n",
       "<table border=\"1\" class=\"dataframe\">\n",
       "  <thead>\n",
       "    <tr style=\"text-align: right;\">\n",
       "      <th></th>\n",
       "      <th>Destination</th>\n",
       "      <th>frequency</th>\n",
       "    </tr>\n",
       "  </thead>\n",
       "  <tbody>\n",
       "    <tr>\n",
       "      <th>0</th>\n",
       "      <td>Singapore</td>\n",
       "      <td>13177</td>\n",
       "    </tr>\n",
       "    <tr>\n",
       "      <th>1</th>\n",
       "      <td>Malaysia</td>\n",
       "      <td>5876</td>\n",
       "    </tr>\n",
       "    <tr>\n",
       "      <th>2</th>\n",
       "      <td>Thailand</td>\n",
       "      <td>5856</td>\n",
       "    </tr>\n",
       "    <tr>\n",
       "      <th>3</th>\n",
       "      <td>China</td>\n",
       "      <td>4766</td>\n",
       "    </tr>\n",
       "    <tr>\n",
       "      <th>4</th>\n",
       "      <td>Australia</td>\n",
       "      <td>3579</td>\n",
       "    </tr>\n",
       "  </tbody>\n",
       "</table>\n",
       "</div>"
      ],
      "text/plain": [
       "  Destination  frequency\n",
       "0   Singapore      13177\n",
       "1    Malaysia       5876\n",
       "2    Thailand       5856\n",
       "3       China       4766\n",
       "4   Australia       3579"
      ]
     },
     "execution_count": 58,
     "metadata": {},
     "output_type": "execute_result"
    }
   ],
   "source": [
    "# Find the frequency with the destination countries \n",
    "destin = series_2_dataframe(df.destination.value_counts(), \n",
    "                 ['Destination','frequency'])      \n",
    "\n",
    "# Change format of country names using title \n",
    "destin.Destination = destin.Destination.apply(lambda x: x.title())\n",
    "destin.head()"
   ]
  },
  {
   "cell_type": "code",
   "execution_count": 59,
   "metadata": {},
   "outputs": [
    {
     "data": {
      "application/vnd.plotly.v1+json": {
       "config": {
        "plotlyServerURL": "https://plot.ly"
       },
       "data": [
        {
         "coloraxis": "coloraxis",
         "geo": "geo",
         "hovertemplate": "Destination=%{location}<br>Frequency=%{z}<extra></extra>",
         "locationmode": "country names",
         "locations": [
          "Malaysia",
          "Thailand",
          "China",
          "Australia",
          "Indonesia",
          "United States",
          "Philippines",
          "Hong Kong",
          "India",
          "Japan",
          "Viet Nam",
          "Korea, Republic Of",
          "United Kingdom",
          "Taiwan, Province Of China",
          "Myanmar",
          "Brunei Darussalam",
          "New Zealand",
          "Canada",
          "Cambodia",
          "France",
          "Germany",
          "Italy",
          "Netherlands",
          "Spain",
          "United Arab Emirates",
          "Switzerland",
          "Sri Lanka",
          "Norway",
          "South Africa",
          "Lao People'S Democratic Republic",
          "Ireland",
          "Nepal",
          "Iceland",
          "Macao",
          "Greece",
          "Denmark",
          "Bangladesh",
          "Austria",
          "Finland",
          "Portugal",
          "Peru",
          "Russian Federation",
          "Turkey",
          "Czech Republic",
          "Sweden",
          "Saudi Arabia",
          "Croatia",
          "Israel",
          "Belgium",
          "Mongolia",
          "Brazil",
          "Poland",
          "Mexico",
          "Pakistan",
          "Maldives",
          "Romania",
          "Hungary",
          "Argentina",
          "Tanzania, United Republic Of",
          "Egypt",
          "Kenya",
          "Oman",
          "Qatar",
          "Jordan",
          "Georgia",
          "Cyprus",
          "Morocco",
          "Colombia",
          "Kazakhstan",
          "Bahrain",
          "Fiji",
          "Chile",
          "Bulgaria",
          "Malta",
          "Papua New Guinea",
          "Uzbekistan",
          "Slovenia",
          "Bolivia",
          "Ukraine",
          "Luxembourg",
          "Mauritius",
          "Estonia",
          "Kuwait",
          "Guam",
          "Azerbaijan",
          "Serbia",
          "Ecuador",
          "Tunisia",
          "Costa Rica",
          "Ethiopia",
          "Kyrgyzstan",
          "Lithuania",
          "Namibia",
          "Venezuela",
          "Lebanon",
          "Ghana",
          "Vanuatu",
          "Guinea",
          "Bhutan",
          "Trinidad And Tobago",
          "Panama",
          "Uganda",
          "Belarus",
          "Bermuda",
          "Jamaica",
          "Zimbabwe",
          "Latvia",
          "Puerto Rico",
          "Faroe Islands",
          "Iran, Islamic Republic Of",
          "Macedonia, The Former Yugoslav Republic Of",
          "Mali",
          "Northern Mariana Islands",
          "Cayman Islands",
          "Zambia",
          "Reunion",
          "French Polynesia",
          "Guyana",
          "Turkmenistan",
          "Moldova, Republic Of",
          "Rwanda",
          "Armenia",
          "Virgin Islands, U.S.",
          "Angola",
          "Seychelles",
          "Cameroon",
          "Bosnia And Herzegovina",
          "Libyan Arab Jamahiriya",
          "Uruguay",
          "Nigeria",
          "Guadeloupe",
          "Albania",
          "Samoa",
          "Guatemala",
          "Republic Of Montenegro",
          "New Caledonia",
          "Tibet",
          "Tajikistan",
          "Turks And Caicos Islands",
          "Senegal",
          "Solomon Islands",
          "Guinea-Bissau",
          "Benin",
          "Dominican Republic",
          "Sierra Leone",
          "Botswana",
          "Barbados"
         ],
         "name": "",
         "type": "choropleth",
         "z": [
          5876,
          5856,
          4766,
          3579,
          3440,
          2486,
          2476,
          2404,
          2236,
          2034,
          1665,
          1465,
          1271,
          1081,
          805,
          777,
          525,
          510,
          492,
          466,
          446,
          436,
          368,
          323,
          284,
          271,
          256,
          156,
          155,
          149,
          120,
          117,
          112,
          110,
          106,
          101,
          100,
          97,
          95,
          93,
          88,
          79,
          78,
          69,
          64,
          62,
          56,
          46,
          46,
          44,
          37,
          34,
          32,
          28,
          25,
          23,
          23,
          22,
          20,
          20,
          20,
          18,
          16,
          16,
          15,
          15,
          14,
          14,
          14,
          13,
          13,
          12,
          12,
          11,
          11,
          10,
          10,
          10,
          10,
          9,
          9,
          9,
          8,
          8,
          8,
          7,
          7,
          7,
          6,
          6,
          6,
          5,
          5,
          5,
          5,
          5,
          5,
          4,
          4,
          4,
          4,
          4,
          3,
          3,
          3,
          3,
          3,
          3,
          3,
          3,
          3,
          2,
          2,
          2,
          2,
          2,
          2,
          2,
          2,
          1,
          1,
          1,
          1,
          1,
          1,
          1,
          1,
          1,
          1,
          1,
          1,
          1,
          1,
          1,
          1,
          1,
          1,
          1,
          1,
          1,
          1,
          1,
          1,
          1,
          1,
          1,
          1
         ]
        }
       ],
       "layout": {
        "coloraxis": {
         "colorbar": {
          "title": {
           "text": "Frequency"
          }
         },
         "colorscale": [
          [
           0,
           "rgb(214, 249, 207)"
          ],
          [
           0.09090909090909091,
           "rgb(186, 228, 174)"
          ],
          [
           0.18181818181818182,
           "rgb(156, 209, 143)"
          ],
          [
           0.2727272727272727,
           "rgb(124, 191, 115)"
          ],
          [
           0.36363636363636365,
           "rgb(85, 174, 91)"
          ],
          [
           0.45454545454545453,
           "rgb(37, 157, 81)"
          ],
          [
           0.5454545454545454,
           "rgb(7, 138, 78)"
          ],
          [
           0.6363636363636364,
           "rgb(13, 117, 71)"
          ],
          [
           0.7272727272727273,
           "rgb(23, 95, 61)"
          ],
          [
           0.8181818181818182,
           "rgb(25, 75, 49)"
          ],
          [
           0.9090909090909091,
           "rgb(23, 55, 35)"
          ],
          [
           1,
           "rgb(17, 36, 20)"
          ]
         ]
        },
        "geo": {
         "center": {},
         "domain": {
          "x": [
           0,
           1
          ],
          "y": [
           0,
           1
          ]
         },
         "projection": {
          "type": "natural earth"
         }
        },
        "legend": {
         "tracegroupgap": 0
        },
        "margin": {
         "b": 0,
         "l": 0,
         "r": 0,
         "t": 0
        },
        "template": {
         "data": {
          "bar": [
           {
            "error_x": {
             "color": "#2a3f5f"
            },
            "error_y": {
             "color": "#2a3f5f"
            },
            "marker": {
             "line": {
              "color": "#E5ECF6",
              "width": 0.5
             },
             "pattern": {
              "fillmode": "overlay",
              "size": 10,
              "solidity": 0.2
             }
            },
            "type": "bar"
           }
          ],
          "barpolar": [
           {
            "marker": {
             "line": {
              "color": "#E5ECF6",
              "width": 0.5
             },
             "pattern": {
              "fillmode": "overlay",
              "size": 10,
              "solidity": 0.2
             }
            },
            "type": "barpolar"
           }
          ],
          "carpet": [
           {
            "aaxis": {
             "endlinecolor": "#2a3f5f",
             "gridcolor": "white",
             "linecolor": "white",
             "minorgridcolor": "white",
             "startlinecolor": "#2a3f5f"
            },
            "baxis": {
             "endlinecolor": "#2a3f5f",
             "gridcolor": "white",
             "linecolor": "white",
             "minorgridcolor": "white",
             "startlinecolor": "#2a3f5f"
            },
            "type": "carpet"
           }
          ],
          "choropleth": [
           {
            "colorbar": {
             "outlinewidth": 0,
             "ticks": ""
            },
            "type": "choropleth"
           }
          ],
          "contour": [
           {
            "colorbar": {
             "outlinewidth": 0,
             "ticks": ""
            },
            "colorscale": [
             [
              0,
              "#0d0887"
             ],
             [
              0.1111111111111111,
              "#46039f"
             ],
             [
              0.2222222222222222,
              "#7201a8"
             ],
             [
              0.3333333333333333,
              "#9c179e"
             ],
             [
              0.4444444444444444,
              "#bd3786"
             ],
             [
              0.5555555555555556,
              "#d8576b"
             ],
             [
              0.6666666666666666,
              "#ed7953"
             ],
             [
              0.7777777777777778,
              "#fb9f3a"
             ],
             [
              0.8888888888888888,
              "#fdca26"
             ],
             [
              1,
              "#f0f921"
             ]
            ],
            "type": "contour"
           }
          ],
          "contourcarpet": [
           {
            "colorbar": {
             "outlinewidth": 0,
             "ticks": ""
            },
            "type": "contourcarpet"
           }
          ],
          "heatmap": [
           {
            "colorbar": {
             "outlinewidth": 0,
             "ticks": ""
            },
            "colorscale": [
             [
              0,
              "#0d0887"
             ],
             [
              0.1111111111111111,
              "#46039f"
             ],
             [
              0.2222222222222222,
              "#7201a8"
             ],
             [
              0.3333333333333333,
              "#9c179e"
             ],
             [
              0.4444444444444444,
              "#bd3786"
             ],
             [
              0.5555555555555556,
              "#d8576b"
             ],
             [
              0.6666666666666666,
              "#ed7953"
             ],
             [
              0.7777777777777778,
              "#fb9f3a"
             ],
             [
              0.8888888888888888,
              "#fdca26"
             ],
             [
              1,
              "#f0f921"
             ]
            ],
            "type": "heatmap"
           }
          ],
          "heatmapgl": [
           {
            "colorbar": {
             "outlinewidth": 0,
             "ticks": ""
            },
            "colorscale": [
             [
              0,
              "#0d0887"
             ],
             [
              0.1111111111111111,
              "#46039f"
             ],
             [
              0.2222222222222222,
              "#7201a8"
             ],
             [
              0.3333333333333333,
              "#9c179e"
             ],
             [
              0.4444444444444444,
              "#bd3786"
             ],
             [
              0.5555555555555556,
              "#d8576b"
             ],
             [
              0.6666666666666666,
              "#ed7953"
             ],
             [
              0.7777777777777778,
              "#fb9f3a"
             ],
             [
              0.8888888888888888,
              "#fdca26"
             ],
             [
              1,
              "#f0f921"
             ]
            ],
            "type": "heatmapgl"
           }
          ],
          "histogram": [
           {
            "marker": {
             "pattern": {
              "fillmode": "overlay",
              "size": 10,
              "solidity": 0.2
             }
            },
            "type": "histogram"
           }
          ],
          "histogram2d": [
           {
            "colorbar": {
             "outlinewidth": 0,
             "ticks": ""
            },
            "colorscale": [
             [
              0,
              "#0d0887"
             ],
             [
              0.1111111111111111,
              "#46039f"
             ],
             [
              0.2222222222222222,
              "#7201a8"
             ],
             [
              0.3333333333333333,
              "#9c179e"
             ],
             [
              0.4444444444444444,
              "#bd3786"
             ],
             [
              0.5555555555555556,
              "#d8576b"
             ],
             [
              0.6666666666666666,
              "#ed7953"
             ],
             [
              0.7777777777777778,
              "#fb9f3a"
             ],
             [
              0.8888888888888888,
              "#fdca26"
             ],
             [
              1,
              "#f0f921"
             ]
            ],
            "type": "histogram2d"
           }
          ],
          "histogram2dcontour": [
           {
            "colorbar": {
             "outlinewidth": 0,
             "ticks": ""
            },
            "colorscale": [
             [
              0,
              "#0d0887"
             ],
             [
              0.1111111111111111,
              "#46039f"
             ],
             [
              0.2222222222222222,
              "#7201a8"
             ],
             [
              0.3333333333333333,
              "#9c179e"
             ],
             [
              0.4444444444444444,
              "#bd3786"
             ],
             [
              0.5555555555555556,
              "#d8576b"
             ],
             [
              0.6666666666666666,
              "#ed7953"
             ],
             [
              0.7777777777777778,
              "#fb9f3a"
             ],
             [
              0.8888888888888888,
              "#fdca26"
             ],
             [
              1,
              "#f0f921"
             ]
            ],
            "type": "histogram2dcontour"
           }
          ],
          "mesh3d": [
           {
            "colorbar": {
             "outlinewidth": 0,
             "ticks": ""
            },
            "type": "mesh3d"
           }
          ],
          "parcoords": [
           {
            "line": {
             "colorbar": {
              "outlinewidth": 0,
              "ticks": ""
             }
            },
            "type": "parcoords"
           }
          ],
          "pie": [
           {
            "automargin": true,
            "type": "pie"
           }
          ],
          "scatter": [
           {
            "marker": {
             "colorbar": {
              "outlinewidth": 0,
              "ticks": ""
             }
            },
            "type": "scatter"
           }
          ],
          "scatter3d": [
           {
            "line": {
             "colorbar": {
              "outlinewidth": 0,
              "ticks": ""
             }
            },
            "marker": {
             "colorbar": {
              "outlinewidth": 0,
              "ticks": ""
             }
            },
            "type": "scatter3d"
           }
          ],
          "scattercarpet": [
           {
            "marker": {
             "colorbar": {
              "outlinewidth": 0,
              "ticks": ""
             }
            },
            "type": "scattercarpet"
           }
          ],
          "scattergeo": [
           {
            "marker": {
             "colorbar": {
              "outlinewidth": 0,
              "ticks": ""
             }
            },
            "type": "scattergeo"
           }
          ],
          "scattergl": [
           {
            "marker": {
             "colorbar": {
              "outlinewidth": 0,
              "ticks": ""
             }
            },
            "type": "scattergl"
           }
          ],
          "scattermapbox": [
           {
            "marker": {
             "colorbar": {
              "outlinewidth": 0,
              "ticks": ""
             }
            },
            "type": "scattermapbox"
           }
          ],
          "scatterpolar": [
           {
            "marker": {
             "colorbar": {
              "outlinewidth": 0,
              "ticks": ""
             }
            },
            "type": "scatterpolar"
           }
          ],
          "scatterpolargl": [
           {
            "marker": {
             "colorbar": {
              "outlinewidth": 0,
              "ticks": ""
             }
            },
            "type": "scatterpolargl"
           }
          ],
          "scatterternary": [
           {
            "marker": {
             "colorbar": {
              "outlinewidth": 0,
              "ticks": ""
             }
            },
            "type": "scatterternary"
           }
          ],
          "surface": [
           {
            "colorbar": {
             "outlinewidth": 0,
             "ticks": ""
            },
            "colorscale": [
             [
              0,
              "#0d0887"
             ],
             [
              0.1111111111111111,
              "#46039f"
             ],
             [
              0.2222222222222222,
              "#7201a8"
             ],
             [
              0.3333333333333333,
              "#9c179e"
             ],
             [
              0.4444444444444444,
              "#bd3786"
             ],
             [
              0.5555555555555556,
              "#d8576b"
             ],
             [
              0.6666666666666666,
              "#ed7953"
             ],
             [
              0.7777777777777778,
              "#fb9f3a"
             ],
             [
              0.8888888888888888,
              "#fdca26"
             ],
             [
              1,
              "#f0f921"
             ]
            ],
            "type": "surface"
           }
          ],
          "table": [
           {
            "cells": {
             "fill": {
              "color": "#EBF0F8"
             },
             "line": {
              "color": "white"
             }
            },
            "header": {
             "fill": {
              "color": "#C8D4E3"
             },
             "line": {
              "color": "white"
             }
            },
            "type": "table"
           }
          ]
         },
         "layout": {
          "annotationdefaults": {
           "arrowcolor": "#2a3f5f",
           "arrowhead": 0,
           "arrowwidth": 1
          },
          "autotypenumbers": "strict",
          "coloraxis": {
           "colorbar": {
            "outlinewidth": 0,
            "ticks": ""
           }
          },
          "colorscale": {
           "diverging": [
            [
             0,
             "#8e0152"
            ],
            [
             0.1,
             "#c51b7d"
            ],
            [
             0.2,
             "#de77ae"
            ],
            [
             0.3,
             "#f1b6da"
            ],
            [
             0.4,
             "#fde0ef"
            ],
            [
             0.5,
             "#f7f7f7"
            ],
            [
             0.6,
             "#e6f5d0"
            ],
            [
             0.7,
             "#b8e186"
            ],
            [
             0.8,
             "#7fbc41"
            ],
            [
             0.9,
             "#4d9221"
            ],
            [
             1,
             "#276419"
            ]
           ],
           "sequential": [
            [
             0,
             "#0d0887"
            ],
            [
             0.1111111111111111,
             "#46039f"
            ],
            [
             0.2222222222222222,
             "#7201a8"
            ],
            [
             0.3333333333333333,
             "#9c179e"
            ],
            [
             0.4444444444444444,
             "#bd3786"
            ],
            [
             0.5555555555555556,
             "#d8576b"
            ],
            [
             0.6666666666666666,
             "#ed7953"
            ],
            [
             0.7777777777777778,
             "#fb9f3a"
            ],
            [
             0.8888888888888888,
             "#fdca26"
            ],
            [
             1,
             "#f0f921"
            ]
           ],
           "sequentialminus": [
            [
             0,
             "#0d0887"
            ],
            [
             0.1111111111111111,
             "#46039f"
            ],
            [
             0.2222222222222222,
             "#7201a8"
            ],
            [
             0.3333333333333333,
             "#9c179e"
            ],
            [
             0.4444444444444444,
             "#bd3786"
            ],
            [
             0.5555555555555556,
             "#d8576b"
            ],
            [
             0.6666666666666666,
             "#ed7953"
            ],
            [
             0.7777777777777778,
             "#fb9f3a"
            ],
            [
             0.8888888888888888,
             "#fdca26"
            ],
            [
             1,
             "#f0f921"
            ]
           ]
          },
          "colorway": [
           "#636efa",
           "#EF553B",
           "#00cc96",
           "#ab63fa",
           "#FFA15A",
           "#19d3f3",
           "#FF6692",
           "#B6E880",
           "#FF97FF",
           "#FECB52"
          ],
          "font": {
           "color": "#2a3f5f"
          },
          "geo": {
           "bgcolor": "white",
           "lakecolor": "white",
           "landcolor": "#E5ECF6",
           "showlakes": true,
           "showland": true,
           "subunitcolor": "white"
          },
          "hoverlabel": {
           "align": "left"
          },
          "hovermode": "closest",
          "mapbox": {
           "style": "light"
          },
          "paper_bgcolor": "white",
          "plot_bgcolor": "#E5ECF6",
          "polar": {
           "angularaxis": {
            "gridcolor": "white",
            "linecolor": "white",
            "ticks": ""
           },
           "bgcolor": "#E5ECF6",
           "radialaxis": {
            "gridcolor": "white",
            "linecolor": "white",
            "ticks": ""
           }
          },
          "scene": {
           "xaxis": {
            "backgroundcolor": "#E5ECF6",
            "gridcolor": "white",
            "gridwidth": 2,
            "linecolor": "white",
            "showbackground": true,
            "ticks": "",
            "zerolinecolor": "white"
           },
           "yaxis": {
            "backgroundcolor": "#E5ECF6",
            "gridcolor": "white",
            "gridwidth": 2,
            "linecolor": "white",
            "showbackground": true,
            "ticks": "",
            "zerolinecolor": "white"
           },
           "zaxis": {
            "backgroundcolor": "#E5ECF6",
            "gridcolor": "white",
            "gridwidth": 2,
            "linecolor": "white",
            "showbackground": true,
            "ticks": "",
            "zerolinecolor": "white"
           }
          },
          "shapedefaults": {
           "line": {
            "color": "#2a3f5f"
           }
          },
          "ternary": {
           "aaxis": {
            "gridcolor": "white",
            "linecolor": "white",
            "ticks": ""
           },
           "baxis": {
            "gridcolor": "white",
            "linecolor": "white",
            "ticks": ""
           },
           "bgcolor": "#E5ECF6",
           "caxis": {
            "gridcolor": "white",
            "linecolor": "white",
            "ticks": ""
           }
          },
          "title": {
           "x": 0.05
          },
          "xaxis": {
           "automargin": true,
           "gridcolor": "white",
           "linecolor": "white",
           "ticks": "",
           "title": {
            "standoff": 15
           },
           "zerolinecolor": "white",
           "zerolinewidth": 2
          },
          "yaxis": {
           "automargin": true,
           "gridcolor": "white",
           "linecolor": "white",
           "ticks": "",
           "title": {
            "standoff": 15
           },
           "zerolinecolor": "white",
           "zerolinewidth": 2
          }
         }
        }
       }
      },
      "text/html": [
       "<div>                            <div id=\"8d4a59f0-9af1-45d7-88b4-8f71ffdccd33\" class=\"plotly-graph-div\" style=\"height:525px; width:100%;\"></div>            <script type=\"text/javascript\">                require([\"plotly\"], function(Plotly) {                    window.PLOTLYENV=window.PLOTLYENV || {};                                    if (document.getElementById(\"8d4a59f0-9af1-45d7-88b4-8f71ffdccd33\")) {                    Plotly.newPlot(                        \"8d4a59f0-9af1-45d7-88b4-8f71ffdccd33\",                        [{\"coloraxis\":\"coloraxis\",\"geo\":\"geo\",\"hovertemplate\":\"Destination=%{location}<br>Frequency=%{z}<extra></extra>\",\"locationmode\":\"country names\",\"locations\":[\"Malaysia\",\"Thailand\",\"China\",\"Australia\",\"Indonesia\",\"United States\",\"Philippines\",\"Hong Kong\",\"India\",\"Japan\",\"Viet Nam\",\"Korea, Republic Of\",\"United Kingdom\",\"Taiwan, Province Of China\",\"Myanmar\",\"Brunei Darussalam\",\"New Zealand\",\"Canada\",\"Cambodia\",\"France\",\"Germany\",\"Italy\",\"Netherlands\",\"Spain\",\"United Arab Emirates\",\"Switzerland\",\"Sri Lanka\",\"Norway\",\"South Africa\",\"Lao People'S Democratic Republic\",\"Ireland\",\"Nepal\",\"Iceland\",\"Macao\",\"Greece\",\"Denmark\",\"Bangladesh\",\"Austria\",\"Finland\",\"Portugal\",\"Peru\",\"Russian Federation\",\"Turkey\",\"Czech Republic\",\"Sweden\",\"Saudi Arabia\",\"Croatia\",\"Israel\",\"Belgium\",\"Mongolia\",\"Brazil\",\"Poland\",\"Mexico\",\"Pakistan\",\"Maldives\",\"Romania\",\"Hungary\",\"Argentina\",\"Tanzania, United Republic Of\",\"Egypt\",\"Kenya\",\"Oman\",\"Qatar\",\"Jordan\",\"Georgia\",\"Cyprus\",\"Morocco\",\"Colombia\",\"Kazakhstan\",\"Bahrain\",\"Fiji\",\"Chile\",\"Bulgaria\",\"Malta\",\"Papua New Guinea\",\"Uzbekistan\",\"Slovenia\",\"Bolivia\",\"Ukraine\",\"Luxembourg\",\"Mauritius\",\"Estonia\",\"Kuwait\",\"Guam\",\"Azerbaijan\",\"Serbia\",\"Ecuador\",\"Tunisia\",\"Costa Rica\",\"Ethiopia\",\"Kyrgyzstan\",\"Lithuania\",\"Namibia\",\"Venezuela\",\"Lebanon\",\"Ghana\",\"Vanuatu\",\"Guinea\",\"Bhutan\",\"Trinidad And Tobago\",\"Panama\",\"Uganda\",\"Belarus\",\"Bermuda\",\"Jamaica\",\"Zimbabwe\",\"Latvia\",\"Puerto Rico\",\"Faroe Islands\",\"Iran, Islamic Republic Of\",\"Macedonia, The Former Yugoslav Republic Of\",\"Mali\",\"Northern Mariana Islands\",\"Cayman Islands\",\"Zambia\",\"Reunion\",\"French Polynesia\",\"Guyana\",\"Turkmenistan\",\"Moldova, Republic Of\",\"Rwanda\",\"Armenia\",\"Virgin Islands, U.S.\",\"Angola\",\"Seychelles\",\"Cameroon\",\"Bosnia And Herzegovina\",\"Libyan Arab Jamahiriya\",\"Uruguay\",\"Nigeria\",\"Guadeloupe\",\"Albania\",\"Samoa\",\"Guatemala\",\"Republic Of Montenegro\",\"New Caledonia\",\"Tibet\",\"Tajikistan\",\"Turks And Caicos Islands\",\"Senegal\",\"Solomon Islands\",\"Guinea-Bissau\",\"Benin\",\"Dominican Republic\",\"Sierra Leone\",\"Botswana\",\"Barbados\"],\"name\":\"\",\"z\":[5876,5856,4766,3579,3440,2486,2476,2404,2236,2034,1665,1465,1271,1081,805,777,525,510,492,466,446,436,368,323,284,271,256,156,155,149,120,117,112,110,106,101,100,97,95,93,88,79,78,69,64,62,56,46,46,44,37,34,32,28,25,23,23,22,20,20,20,18,16,16,15,15,14,14,14,13,13,12,12,11,11,10,10,10,10,9,9,9,8,8,8,7,7,7,6,6,6,5,5,5,5,5,5,4,4,4,4,4,3,3,3,3,3,3,3,3,3,2,2,2,2,2,2,2,2,1,1,1,1,1,1,1,1,1,1,1,1,1,1,1,1,1,1,1,1,1,1,1,1,1,1,1,1],\"type\":\"choropleth\"}],                        {\"template\":{\"data\":{\"bar\":[{\"error_x\":{\"color\":\"#2a3f5f\"},\"error_y\":{\"color\":\"#2a3f5f\"},\"marker\":{\"line\":{\"color\":\"#E5ECF6\",\"width\":0.5},\"pattern\":{\"fillmode\":\"overlay\",\"size\":10,\"solidity\":0.2}},\"type\":\"bar\"}],\"barpolar\":[{\"marker\":{\"line\":{\"color\":\"#E5ECF6\",\"width\":0.5},\"pattern\":{\"fillmode\":\"overlay\",\"size\":10,\"solidity\":0.2}},\"type\":\"barpolar\"}],\"carpet\":[{\"aaxis\":{\"endlinecolor\":\"#2a3f5f\",\"gridcolor\":\"white\",\"linecolor\":\"white\",\"minorgridcolor\":\"white\",\"startlinecolor\":\"#2a3f5f\"},\"baxis\":{\"endlinecolor\":\"#2a3f5f\",\"gridcolor\":\"white\",\"linecolor\":\"white\",\"minorgridcolor\":\"white\",\"startlinecolor\":\"#2a3f5f\"},\"type\":\"carpet\"}],\"choropleth\":[{\"colorbar\":{\"outlinewidth\":0,\"ticks\":\"\"},\"type\":\"choropleth\"}],\"contour\":[{\"colorbar\":{\"outlinewidth\":0,\"ticks\":\"\"},\"colorscale\":[[0.0,\"#0d0887\"],[0.1111111111111111,\"#46039f\"],[0.2222222222222222,\"#7201a8\"],[0.3333333333333333,\"#9c179e\"],[0.4444444444444444,\"#bd3786\"],[0.5555555555555556,\"#d8576b\"],[0.6666666666666666,\"#ed7953\"],[0.7777777777777778,\"#fb9f3a\"],[0.8888888888888888,\"#fdca26\"],[1.0,\"#f0f921\"]],\"type\":\"contour\"}],\"contourcarpet\":[{\"colorbar\":{\"outlinewidth\":0,\"ticks\":\"\"},\"type\":\"contourcarpet\"}],\"heatmap\":[{\"colorbar\":{\"outlinewidth\":0,\"ticks\":\"\"},\"colorscale\":[[0.0,\"#0d0887\"],[0.1111111111111111,\"#46039f\"],[0.2222222222222222,\"#7201a8\"],[0.3333333333333333,\"#9c179e\"],[0.4444444444444444,\"#bd3786\"],[0.5555555555555556,\"#d8576b\"],[0.6666666666666666,\"#ed7953\"],[0.7777777777777778,\"#fb9f3a\"],[0.8888888888888888,\"#fdca26\"],[1.0,\"#f0f921\"]],\"type\":\"heatmap\"}],\"heatmapgl\":[{\"colorbar\":{\"outlinewidth\":0,\"ticks\":\"\"},\"colorscale\":[[0.0,\"#0d0887\"],[0.1111111111111111,\"#46039f\"],[0.2222222222222222,\"#7201a8\"],[0.3333333333333333,\"#9c179e\"],[0.4444444444444444,\"#bd3786\"],[0.5555555555555556,\"#d8576b\"],[0.6666666666666666,\"#ed7953\"],[0.7777777777777778,\"#fb9f3a\"],[0.8888888888888888,\"#fdca26\"],[1.0,\"#f0f921\"]],\"type\":\"heatmapgl\"}],\"histogram\":[{\"marker\":{\"pattern\":{\"fillmode\":\"overlay\",\"size\":10,\"solidity\":0.2}},\"type\":\"histogram\"}],\"histogram2d\":[{\"colorbar\":{\"outlinewidth\":0,\"ticks\":\"\"},\"colorscale\":[[0.0,\"#0d0887\"],[0.1111111111111111,\"#46039f\"],[0.2222222222222222,\"#7201a8\"],[0.3333333333333333,\"#9c179e\"],[0.4444444444444444,\"#bd3786\"],[0.5555555555555556,\"#d8576b\"],[0.6666666666666666,\"#ed7953\"],[0.7777777777777778,\"#fb9f3a\"],[0.8888888888888888,\"#fdca26\"],[1.0,\"#f0f921\"]],\"type\":\"histogram2d\"}],\"histogram2dcontour\":[{\"colorbar\":{\"outlinewidth\":0,\"ticks\":\"\"},\"colorscale\":[[0.0,\"#0d0887\"],[0.1111111111111111,\"#46039f\"],[0.2222222222222222,\"#7201a8\"],[0.3333333333333333,\"#9c179e\"],[0.4444444444444444,\"#bd3786\"],[0.5555555555555556,\"#d8576b\"],[0.6666666666666666,\"#ed7953\"],[0.7777777777777778,\"#fb9f3a\"],[0.8888888888888888,\"#fdca26\"],[1.0,\"#f0f921\"]],\"type\":\"histogram2dcontour\"}],\"mesh3d\":[{\"colorbar\":{\"outlinewidth\":0,\"ticks\":\"\"},\"type\":\"mesh3d\"}],\"parcoords\":[{\"line\":{\"colorbar\":{\"outlinewidth\":0,\"ticks\":\"\"}},\"type\":\"parcoords\"}],\"pie\":[{\"automargin\":true,\"type\":\"pie\"}],\"scatter\":[{\"marker\":{\"colorbar\":{\"outlinewidth\":0,\"ticks\":\"\"}},\"type\":\"scatter\"}],\"scatter3d\":[{\"line\":{\"colorbar\":{\"outlinewidth\":0,\"ticks\":\"\"}},\"marker\":{\"colorbar\":{\"outlinewidth\":0,\"ticks\":\"\"}},\"type\":\"scatter3d\"}],\"scattercarpet\":[{\"marker\":{\"colorbar\":{\"outlinewidth\":0,\"ticks\":\"\"}},\"type\":\"scattercarpet\"}],\"scattergeo\":[{\"marker\":{\"colorbar\":{\"outlinewidth\":0,\"ticks\":\"\"}},\"type\":\"scattergeo\"}],\"scattergl\":[{\"marker\":{\"colorbar\":{\"outlinewidth\":0,\"ticks\":\"\"}},\"type\":\"scattergl\"}],\"scattermapbox\":[{\"marker\":{\"colorbar\":{\"outlinewidth\":0,\"ticks\":\"\"}},\"type\":\"scattermapbox\"}],\"scatterpolar\":[{\"marker\":{\"colorbar\":{\"outlinewidth\":0,\"ticks\":\"\"}},\"type\":\"scatterpolar\"}],\"scatterpolargl\":[{\"marker\":{\"colorbar\":{\"outlinewidth\":0,\"ticks\":\"\"}},\"type\":\"scatterpolargl\"}],\"scatterternary\":[{\"marker\":{\"colorbar\":{\"outlinewidth\":0,\"ticks\":\"\"}},\"type\":\"scatterternary\"}],\"surface\":[{\"colorbar\":{\"outlinewidth\":0,\"ticks\":\"\"},\"colorscale\":[[0.0,\"#0d0887\"],[0.1111111111111111,\"#46039f\"],[0.2222222222222222,\"#7201a8\"],[0.3333333333333333,\"#9c179e\"],[0.4444444444444444,\"#bd3786\"],[0.5555555555555556,\"#d8576b\"],[0.6666666666666666,\"#ed7953\"],[0.7777777777777778,\"#fb9f3a\"],[0.8888888888888888,\"#fdca26\"],[1.0,\"#f0f921\"]],\"type\":\"surface\"}],\"table\":[{\"cells\":{\"fill\":{\"color\":\"#EBF0F8\"},\"line\":{\"color\":\"white\"}},\"header\":{\"fill\":{\"color\":\"#C8D4E3\"},\"line\":{\"color\":\"white\"}},\"type\":\"table\"}]},\"layout\":{\"annotationdefaults\":{\"arrowcolor\":\"#2a3f5f\",\"arrowhead\":0,\"arrowwidth\":1},\"autotypenumbers\":\"strict\",\"coloraxis\":{\"colorbar\":{\"outlinewidth\":0,\"ticks\":\"\"}},\"colorscale\":{\"diverging\":[[0,\"#8e0152\"],[0.1,\"#c51b7d\"],[0.2,\"#de77ae\"],[0.3,\"#f1b6da\"],[0.4,\"#fde0ef\"],[0.5,\"#f7f7f7\"],[0.6,\"#e6f5d0\"],[0.7,\"#b8e186\"],[0.8,\"#7fbc41\"],[0.9,\"#4d9221\"],[1,\"#276419\"]],\"sequential\":[[0.0,\"#0d0887\"],[0.1111111111111111,\"#46039f\"],[0.2222222222222222,\"#7201a8\"],[0.3333333333333333,\"#9c179e\"],[0.4444444444444444,\"#bd3786\"],[0.5555555555555556,\"#d8576b\"],[0.6666666666666666,\"#ed7953\"],[0.7777777777777778,\"#fb9f3a\"],[0.8888888888888888,\"#fdca26\"],[1.0,\"#f0f921\"]],\"sequentialminus\":[[0.0,\"#0d0887\"],[0.1111111111111111,\"#46039f\"],[0.2222222222222222,\"#7201a8\"],[0.3333333333333333,\"#9c179e\"],[0.4444444444444444,\"#bd3786\"],[0.5555555555555556,\"#d8576b\"],[0.6666666666666666,\"#ed7953\"],[0.7777777777777778,\"#fb9f3a\"],[0.8888888888888888,\"#fdca26\"],[1.0,\"#f0f921\"]]},\"colorway\":[\"#636efa\",\"#EF553B\",\"#00cc96\",\"#ab63fa\",\"#FFA15A\",\"#19d3f3\",\"#FF6692\",\"#B6E880\",\"#FF97FF\",\"#FECB52\"],\"font\":{\"color\":\"#2a3f5f\"},\"geo\":{\"bgcolor\":\"white\",\"lakecolor\":\"white\",\"landcolor\":\"#E5ECF6\",\"showlakes\":true,\"showland\":true,\"subunitcolor\":\"white\"},\"hoverlabel\":{\"align\":\"left\"},\"hovermode\":\"closest\",\"mapbox\":{\"style\":\"light\"},\"paper_bgcolor\":\"white\",\"plot_bgcolor\":\"#E5ECF6\",\"polar\":{\"angularaxis\":{\"gridcolor\":\"white\",\"linecolor\":\"white\",\"ticks\":\"\"},\"bgcolor\":\"#E5ECF6\",\"radialaxis\":{\"gridcolor\":\"white\",\"linecolor\":\"white\",\"ticks\":\"\"}},\"scene\":{\"xaxis\":{\"backgroundcolor\":\"#E5ECF6\",\"gridcolor\":\"white\",\"gridwidth\":2,\"linecolor\":\"white\",\"showbackground\":true,\"ticks\":\"\",\"zerolinecolor\":\"white\"},\"yaxis\":{\"backgroundcolor\":\"#E5ECF6\",\"gridcolor\":\"white\",\"gridwidth\":2,\"linecolor\":\"white\",\"showbackground\":true,\"ticks\":\"\",\"zerolinecolor\":\"white\"},\"zaxis\":{\"backgroundcolor\":\"#E5ECF6\",\"gridcolor\":\"white\",\"gridwidth\":2,\"linecolor\":\"white\",\"showbackground\":true,\"ticks\":\"\",\"zerolinecolor\":\"white\"}},\"shapedefaults\":{\"line\":{\"color\":\"#2a3f5f\"}},\"ternary\":{\"aaxis\":{\"gridcolor\":\"white\",\"linecolor\":\"white\",\"ticks\":\"\"},\"baxis\":{\"gridcolor\":\"white\",\"linecolor\":\"white\",\"ticks\":\"\"},\"bgcolor\":\"#E5ECF6\",\"caxis\":{\"gridcolor\":\"white\",\"linecolor\":\"white\",\"ticks\":\"\"}},\"title\":{\"x\":0.05},\"xaxis\":{\"automargin\":true,\"gridcolor\":\"white\",\"linecolor\":\"white\",\"ticks\":\"\",\"title\":{\"standoff\":15},\"zerolinecolor\":\"white\",\"zerolinewidth\":2},\"yaxis\":{\"automargin\":true,\"gridcolor\":\"white\",\"linecolor\":\"white\",\"ticks\":\"\",\"title\":{\"standoff\":15},\"zerolinecolor\":\"white\",\"zerolinewidth\":2}}},\"geo\":{\"domain\":{\"x\":[0.0,1.0],\"y\":[0.0,1.0]},\"projection\":{\"type\":\"natural earth\"},\"center\":{}},\"coloraxis\":{\"colorbar\":{\"title\":{\"text\":\"Frequency\"}},\"colorscale\":[[0.0,\"rgb(214, 249, 207)\"],[0.09090909090909091,\"rgb(186, 228, 174)\"],[0.18181818181818182,\"rgb(156, 209, 143)\"],[0.2727272727272727,\"rgb(124, 191, 115)\"],[0.36363636363636365,\"rgb(85, 174, 91)\"],[0.45454545454545453,\"rgb(37, 157, 81)\"],[0.5454545454545454,\"rgb(7, 138, 78)\"],[0.6363636363636364,\"rgb(13, 117, 71)\"],[0.7272727272727273,\"rgb(23, 95, 61)\"],[0.8181818181818182,\"rgb(25, 75, 49)\"],[0.9090909090909091,\"rgb(23, 55, 35)\"],[1.0,\"rgb(17, 36, 20)\"]]},\"legend\":{\"tracegroupgap\":0},\"margin\":{\"t\":0,\"r\":0,\"l\":0,\"b\":0}},                        {\"responsive\": true}                    ).then(function(){\n",
       "                            \n",
       "var gd = document.getElementById('8d4a59f0-9af1-45d7-88b4-8f71ffdccd33');\n",
       "var x = new MutationObserver(function (mutations, observer) {{\n",
       "        var display = window.getComputedStyle(gd).display;\n",
       "        if (!display || display === 'none') {{\n",
       "            console.log([gd, 'removed!']);\n",
       "            Plotly.purge(gd);\n",
       "            observer.disconnect();\n",
       "        }}\n",
       "}});\n",
       "\n",
       "// Listen for the removal of the full notebook cells\n",
       "var notebookContainer = gd.closest('#notebook-container');\n",
       "if (notebookContainer) {{\n",
       "    x.observe(notebookContainer, {childList: true});\n",
       "}}\n",
       "\n",
       "// Listen for the clearing of the current output cell\n",
       "var outputEl = gd.closest('.output');\n",
       "if (outputEl) {{\n",
       "    x.observe(outputEl, {childList: true});\n",
       "}}\n",
       "\n",
       "                        })                };                });            </script>        </div>"
      ]
     },
     "metadata": {},
     "output_type": "display_data"
    }
   ],
   "source": [
    "# Create a choropleth map with Plotly. \n",
    "# Notice that 'Singapore' is skipped since it has the highest count\n",
    "# Also, the country could not be displayed due to its size \n",
    "fig = px.choropleth(destin.iloc[1:,:], locations=\"Destination\", \n",
    "                    locationmode=\"country names\", color='frequency',                    \n",
    "                    color_continuous_scale=\"algae\",\n",
    "                    labels={'frequency':'Frequency'}, \n",
    "                    projection=\"natural earth\"                    \n",
    "                   )\n",
    "\n",
    "# Control margins for maximum display\n",
    "fig.update_layout(margin={\"r\":0,\"t\":0,\"l\":0,\"b\":0})"
   ]
  },
  {
   "cell_type": "markdown",
   "metadata": {},
   "source": [
    "## Correlation of Features"
   ]
  },
  {
   "cell_type": "markdown",
   "metadata": {},
   "source": [
    "In order to plot the correlation of features, the dataframe is copied and the categorical data is converted to numerical (not one-hot-encoding) to show the values of correlation.  "
   ]
  },
  {
   "cell_type": "code",
   "execution_count": 60,
   "metadata": {},
   "outputs": [
    {
     "data": {
      "image/png": "[encoded data removed]",
      "text/plain": [
       "<Figure size 1152x864 with 2 Axes>"
      ]
     },
     "metadata": {},
     "output_type": "display_data"
    }
   ],
   "source": [
    "# Change seaborn style \n",
    "sns.set_style('white')\n",
    "\n",
    "# Copy df with 'gender' column dropped\n",
    "dum_df = df.drop('gender', axis=1)\n",
    "\n",
    "# Iterate through categorical columns and perform label encoding\n",
    "for col in (non_bin_cat_cols+bin_cat_cols):\n",
    "    dum_df[col] = LabelEncoder().fit_transform(dum_df[col])\n",
    "\n",
    "# Select features for correlation analysis    \n",
    "features = dum_df.columns\n",
    "\n",
    "# Create a triangular mask to show the lower triangular section of the heatmap\n",
    "mask = np.zeros_like(dum_df[features].corr(), dtype=np.bool) \n",
    "mask[np.triu_indices_from(mask)] = True \n",
    "\n",
    "# Initialize plot\n",
    "fig, ax = plt.subplots(figsize=(16, 12))\n",
    "plt.title('Pearson Correlation Matrix',fontsize=17)\n",
    "\n",
    "# Plot the Pearson Correlation Matrix for the numeric columns\n",
    "sns.heatmap(dum_df[features].corr(),linewidths=0.25,vmax=0.7,square=True,\n",
    "            cmap=\"BuGn\",linecolor='w',annot=True,annot_kws={\"size\":10},\n",
    "            mask=mask,cbar_kws={\"shrink\": .9},ax=ax);\n",
    "\n",
    "# Adjust font size of ticks \n",
    "ax.set_xticklabels(ax.get_xmajorticklabels(),fontsize=12);\n",
    "ax.set_yticklabels(ax.get_ymajorticklabels(),fontsize=12);\n",
    "\n",
    "# Save plot \n",
    "#plt.savefig('images/corr.png')"
   ]
  },
  {
   "cell_type": "markdown",
   "metadata": {},
   "source": [
    "# Data Preparation"
   ]
  },
  {
   "cell_type": "code",
   "execution_count": 61,
   "metadata": {},
   "outputs": [
    {
     "name": "stdout",
     "output_type": "stream",
     "text": [
      "M    9299\n",
      "F    8812\n",
      "Name: gender, dtype: int64\n",
      "Undefined gender values:  44532\n"
     ]
    }
   ],
   "source": [
    "print(df.gender.value_counts())\n",
    "print('Undefined gender values: ',df.gender.isna().sum())"
   ]
  },
  {
   "cell_type": "code",
   "execution_count": 62,
   "metadata": {},
   "outputs": [
    {
     "name": "stdout",
     "output_type": "stream",
     "text": [
      "<class 'pandas.core.frame.DataFrame'>\n",
      "Int64Index: 62643 entries, 21 to 63325\n",
      "Data columns (total 10 columns):\n",
      " #   Column                Non-Null Count  Dtype  \n",
      "---  ------                --------------  -----  \n",
      " 0   agency                62643 non-null  object \n",
      " 1   agency_type           62643 non-null  object \n",
      " 2   distribution_channel  62643 non-null  object \n",
      " 3   product_name          62643 non-null  object \n",
      " 4   claim                 62643 non-null  object \n",
      " 5   duration              62643 non-null  int64  \n",
      " 6   destination           62643 non-null  object \n",
      " 7   net_sales             62643 non-null  float64\n",
      " 8   commision             62643 non-null  float64\n",
      " 9   age                   62643 non-null  int64  \n",
      "dtypes: float64(2), int64(2), object(6)\n",
      "memory usage: 5.3+ MB\n"
     ]
    }
   ],
   "source": [
    "df_mod = df.drop('gender',axis=1)\n",
    "df_mod.info()"
   ]
  },
  {
   "cell_type": "markdown",
   "metadata": {},
   "source": []
  },
  {
   "cell_type": "code",
   "execution_count": 63,
   "metadata": {},
   "outputs": [
    {
     "data": {
      "text/plain": [
       "'Visualization stage here!'"
      ]
     },
     "execution_count": 63,
     "metadata": {},
     "output_type": "execute_result"
    }
   ],
   "source": [
    "'''Visualization stage here!'''"
   ]
  },
  {
   "cell_type": "markdown",
   "metadata": {},
   "source": [
    "In order to proceed to the next step, we need to visualize the data in each column first. "
   ]
  },
  {
   "cell_type": "code",
   "execution_count": 64,
   "metadata": {},
   "outputs": [
    {
     "data": {
      "text/plain": [
       "No     61719\n",
       "Yes      924\n",
       "Name: claim, dtype: int64"
      ]
     },
     "execution_count": 64,
     "metadata": {},
     "output_type": "execute_result"
    }
   ],
   "source": [
    "df_mod.claim.value_counts()"
   ]
  },
  {
   "cell_type": "code",
   "execution_count": 65,
   "metadata": {},
   "outputs": [],
   "source": [
    "df_mod.claim = (df_mod.claim=='Yes').astype(int)"
   ]
  },
  {
   "cell_type": "code",
   "execution_count": 66,
   "metadata": {},
   "outputs": [
    {
     "data": {
      "text/plain": [
       "(62643, 194)"
      ]
     },
     "execution_count": 66,
     "metadata": {},
     "output_type": "execute_result"
    }
   ],
   "source": [
    "df_dummy = pd.get_dummies(df_mod,drop_first=True)\n",
    "df_dummy.shape"
   ]
  },
  {
   "cell_type": "code",
   "execution_count": 67,
   "metadata": {},
   "outputs": [],
   "source": [
    "URL = \"https://simple.wikipedia.org/wiki/List_of_countries_by_continents\"\n",
    "\n",
    "html_page = requests.get(URL)\n",
    "soup = BeautifulSoup(html_page.content, 'html.parser') \n",
    "\n",
    "cont_names  = soup.find_all(\"span\",{\"class\": \"mw-headline\"})\n",
    "count_name = soup.find_all(\"ol\")\n",
    "continents = []\n",
    "\n",
    "for cont in cont_names:\n",
    "    name = cont.get_text()\n",
    "    if ('References' not in name) and ('website' not in name) and ('Antarctica' not in name):\n",
    "        continents.append(name)\n",
    "\n",
    "continent_dict = {}        \n",
    "for i in range(len(continents)+1):    \n",
    "    count_list = count_name[i].find_all(\"li\")\n",
    "    for country in count_list:\n",
    "        country = country.get_text()\n",
    "        country = country.split(' - ')[0].strip()\n",
    "        country = country.split('(')[0].strip()\n",
    "        country = country.split('*')[0].strip()\n",
    "        country = country.split('[')[0].strip()\n",
    "        if i<len(continents):\n",
    "            continent_dict[country] = continents[i]\n",
    "        else: \n",
    "            continent_dict[country] = continents[-1]"
   ]
  },
  {
   "cell_type": "code",
   "execution_count": 68,
   "metadata": {},
   "outputs": [
    {
     "data": {
      "text/plain": [
       "Asia                         43326\n",
       "Europe                        4846\n",
       "Oceania                       4136\n",
       "North and Central America      565\n",
       "Africa                         286\n",
       "South America                  198\n",
       "Name: continent, dtype: int64"
      ]
     },
     "execution_count": 68,
     "metadata": {},
     "output_type": "execute_result"
    }
   ],
   "source": [
    "def modify_name(s):\n",
    "    return s.title().replace(' And ',' and ').replace(' Of ',' of ').split(',')[0]\n",
    "    \n",
    "\n",
    "df_mod.destination = df_mod.destination.apply(modify_name)\n",
    "df_mod['continent'] = df_mod.destination.map(continent_dict)\n",
    "df_mod['continent'].value_counts()"
   ]
  },
  {
   "cell_type": "code",
   "execution_count": 69,
   "metadata": {},
   "outputs": [
    {
     "data": {
      "text/plain": [
       "United States                       2486\n",
       "Hong Kong                           2404\n",
       "Viet Nam                            1665\n",
       "Korea                               1465\n",
       "Brunei Darussalam                    777\n",
       "Lao People'S Democratic Republic     149\n",
       "Ireland                              120\n",
       "Macao                                110\n",
       "Russian Federation                    79\n",
       "Guam                                   8\n",
       "Macedonia                              3\n",
       "Faroe Islands                          3\n",
       "Bermuda                                3\n",
       "Reunion                                2\n",
       "French Polynesia                       2\n",
       "Cayman Islands                         2\n",
       "Northern Mariana Islands               2\n",
       "Republic of Montenegro                 1\n",
       "Virgin Islands                         1\n",
       "Barbados                               1\n",
       "Turks and Caicos Islands               1\n",
       "Tibet                                  1\n",
       "Libyan Arab Jamahiriya                 1\n",
       "Name: destination, dtype: int64"
      ]
     },
     "execution_count": 69,
     "metadata": {},
     "output_type": "execute_result"
    }
   ],
   "source": [
    "df_mod[df_mod.continent.isna()]['destination'].value_counts()"
   ]
  },
  {
   "cell_type": "code",
   "execution_count": 70,
   "metadata": {},
   "outputs": [],
   "source": [
    "north_central_america = ['United States', 'Cayman Islands', 'Barbados', \n",
    "                 'Turks and Caicos Islands', 'Bermuda', 'Virgin Islands']\n",
    "africa = ['Libyan Arab Jamahiriya', 'Reunion']\n",
    "europe = ['Ireland', 'Macedonia', 'Republic of Montenegro', 'Faroe Islands']\n",
    "oceania = ['Guam', 'Northern Mariana Islands', 'French Polynesia']\n",
    "\n",
    "cont_list = [north_central_america, africa, europe, oceania]\n",
    "cont_name = ['North and Central America', 'Africa', 'Europe', 'Oceania']\n",
    "for i, cont in enumerate(cont_list):\n",
    "    for name in cont:\n",
    "        df_mod.loc[df_mod.destination==name,'continent'] = cont_name[i]\n",
    "df_mod.loc[df_mod.continent.isna(),'continent'] = 'Asia'\n",
    "df_mod.continent = df_mod.continent.apply(lambda x: x.lower().replace(' ','_'))"
   ]
  },
  {
   "cell_type": "code",
   "execution_count": 40,
   "metadata": {},
   "outputs": [
    {
     "data": {
      "text/plain": [
       "(62643, 52)"
      ]
     },
     "execution_count": 40,
     "metadata": {},
     "output_type": "execute_result"
    }
   ],
   "source": [
    "destination = df_mod.destination\n",
    "\n",
    "df_mod.drop('destination',axis=1,inplace=True)\n",
    "\n",
    "df_dummy = pd.get_dummies(df_mod,drop_first=True)\n",
    "df_dummy.shape"
   ]
  },
  {
   "cell_type": "markdown",
   "metadata": {},
   "source": [
    "# Modeling"
   ]
  },
  {
   "cell_type": "code",
   "execution_count": 71,
   "metadata": {},
   "outputs": [],
   "source": [
    "models = {}"
   ]
  },
  {
   "cell_type": "code",
   "execution_count": 72,
   "metadata": {},
   "outputs": [
    {
     "name": "stdout",
     "output_type": "stream",
     "text": [
      "Number of CPUs in the system: 8\n"
     ]
    }
   ],
   "source": [
    "n_cpu = os.cpu_count()\n",
    "print(\"Number of CPUs in the system:\", n_cpu)"
   ]
  },
  {
   "cell_type": "markdown",
   "metadata": {},
   "source": [
    "## Normalization "
   ]
  },
  {
   "cell_type": "code",
   "execution_count": 73,
   "metadata": {},
   "outputs": [],
   "source": [
    "X = df_dummy.drop('claim', axis=1)\n",
    "y = df_dummy.claim"
   ]
  },
  {
   "cell_type": "markdown",
   "metadata": {},
   "source": []
  },
  {
   "cell_type": "code",
   "execution_count": 75,
   "metadata": {},
   "outputs": [
    {
     "data": {
      "text/plain": [
       "0    43203\n",
       "1      647\n",
       "Name: claim, dtype: int64"
      ]
     },
     "execution_count": 75,
     "metadata": {},
     "output_type": "execute_result"
    }
   ],
   "source": [
    "\n",
    "X_train, X_test, y_train, y_test = train_test_split(X, y, random_state=1, \n",
    "                                                    test_size = 0.3,\n",
    "                                                    stratify=y)\n",
    "\n",
    "y_train.value_counts()"
   ]
  },
  {
   "cell_type": "code",
   "execution_count": 76,
   "metadata": {},
   "outputs": [],
   "source": [
    "scaler = StandardScaler()\n",
    "X_train_scaled = scaler.fit_transform(X_train)\n",
    "X_test_scaled = scaler.transform(X_test)"
   ]
  },
  {
   "cell_type": "markdown",
   "metadata": {},
   "source": [
    "### Class Imbalance: Over Sampling"
   ]
  },
  {
   "cell_type": "code",
   "execution_count": 77,
   "metadata": {},
   "outputs": [
    {
     "data": {
      "text/plain": [
       "1    0.5\n",
       "0    0.5\n",
       "Name: claim, dtype: float64"
      ]
     },
     "execution_count": 77,
     "metadata": {},
     "output_type": "execute_result"
    }
   ],
   "source": [
    "\n",
    "smote = SMOTE(random_state=123)\n",
    "\n",
    "X_train_resam_smote, y_train_resam_smote = smote.fit_resample(X_train_scaled, y_train) \n",
    "\n",
    "y_train_resam_smote.value_counts(normalize=True)"
   ]
  },
  {
   "cell_type": "code",
   "execution_count": 78,
   "metadata": {},
   "outputs": [
    {
     "data": {
      "text/plain": [
       "1    0.500641\n",
       "0    0.499359\n",
       "Name: claim, dtype: float64"
      ]
     },
     "execution_count": 78,
     "metadata": {},
     "output_type": "execute_result"
    }
   ],
   "source": [
    "\n",
    "adasyn = ADASYN(random_state=123)\n",
    "\n",
    "X_train_resam_ada, y_train_resam_ada = adasyn.fit_resample(X_train_scaled, y_train) \n",
    "\n",
    "y_train_resam_ada.value_counts(normalize=True)"
   ]
  },
  {
   "cell_type": "code",
   "execution_count": 79,
   "metadata": {},
   "outputs": [
    {
     "data": {
      "text/plain": [
       "1    0.5\n",
       "0    0.5\n",
       "Name: claim, dtype: float64"
      ]
     },
     "execution_count": 79,
     "metadata": {},
     "output_type": "execute_result"
    }
   ],
   "source": [
    "\n",
    "rand_ov_sam = RandomOverSampler(random_state=123)\n",
    "\n",
    "X_train_resam_rand, y_train_resam_rand = rand_ov_sam.fit_resample(X_train_scaled, y_train) \n",
    "\n",
    "y_train_resam_rand.value_counts(normalize=True)"
   ]
  },
  {
   "cell_type": "markdown",
   "metadata": {},
   "source": [
    "### Class Imbalance: Class Weight"
   ]
  },
  {
   "cell_type": "code",
   "execution_count": 80,
   "metadata": {},
   "outputs": [
    {
     "data": {
      "text/plain": [
       "{0: 0.5074879059324584, 1: 33.887171561051005}"
      ]
     },
     "execution_count": 80,
     "metadata": {},
     "output_type": "execute_result"
    }
   ],
   "source": [
    "\n",
    "\n",
    "class_weights = compute_class_weight(class_weight = \"balanced\",\n",
    "                                     classes = np.unique(y_train),\n",
    "                                     y = y_train                                                    \n",
    "                                    )\n",
    "class_weights = dict(zip(np.unique(y_train), class_weights))\n",
    "class_weights"
   ]
  },
  {
   "cell_type": "markdown",
   "metadata": {},
   "source": [
    "## Logistic Regression "
   ]
  },
  {
   "cell_type": "markdown",
   "metadata": {},
   "source": []
  },
  {
   "cell_type": "code",
   "execution_count": null,
   "metadata": {},
   "outputs": [],
   "source": [
    "log_reg = {}"
   ]
  },
  {
   "cell_type": "code",
   "execution_count": null,
   "metadata": {},
   "outputs": [],
   "source": [
    "logreg = LogisticRegression(n_jobs=n_cpu-1)\n",
    "cross_val_score(logreg, X_train_resam_smote, y_train_resam_smote)\n",
    "logreg = GridSearchCV(logreg, param_grid=logreg_param_grid, cv=5)\n",
    "logreg_cv.fit(X_train_resampled, y_train_resampled)\n",
    "logreg_best = logreg_cv.best_estimator_\n",
    "logreg_best"
   ]
  },
  {
   "cell_type": "code",
   "execution_count": null,
   "metadata": {},
   "outputs": [],
   "source": [
    "logreg_param_grid = {'C':np.linspace(0.1, 1, 10), \n",
    "                     'fit_intercept':[False, True]}"
   ]
  },
  {
   "cell_type": "code",
   "execution_count": null,
   "metadata": {},
   "outputs": [],
   "source": [
    "logreg = LogisticRegression(n_jobs=n_cpu-1)\n",
    "\n",
    "logreg_cv = GridSearchCV(logreg, param_grid=logreg_param_grid, cv=5)\n",
    "logreg_cv.fit(X_train_resampled, y_train_resampled)\n",
    "logreg_best = logreg_cv.best_estimator_\n",
    "logreg_best"
   ]
  },
  {
   "cell_type": "code",
   "execution_count": null,
   "metadata": {},
   "outputs": [],
   "source": [
    "pred = logreg_best.predict(X_test_scaled)\n",
    "accuracy_score(y_test, pred)"
   ]
  },
  {
   "cell_type": "code",
   "execution_count": null,
   "metadata": {},
   "outputs": [],
   "source": [
    "logreg = LogisticRegression(n_jobs=n_cpu-1, class_weight=class_weights)\n",
    "logreg_cv = GridSearchCV(logreg, param_grid=logreg_param_grid, cv=5)\n",
    "logreg_cv.fit(X_train_scaled, y_train)\n",
    "logreg_best = logreg_cv.best_estimator_\n",
    "logreg_best"
   ]
  },
  {
   "cell_type": "code",
   "execution_count": null,
   "metadata": {},
   "outputs": [],
   "source": [
    "pred = logreg_best.predict(X_test_scaled)\n",
    "accuracy_score(y_test, pred)\n"
   ]
  },
  {
   "cell_type": "code",
   "execution_count": null,
   "metadata": {},
   "outputs": [],
   "source": [
    "str(logreg_cv.estimator)"
   ]
  },
  {
   "cell_type": "markdown",
   "metadata": {},
   "source": [
    "### Hyperparametrization: Regularization "
   ]
  },
  {
   "cell_type": "markdown",
   "metadata": {},
   "source": [
    "### Cross Validation "
   ]
  },
  {
   "cell_type": "markdown",
   "metadata": {},
   "source": [
    "## K Nearest Neighbor"
   ]
  },
  {
   "cell_type": "markdown",
   "metadata": {},
   "source": []
  },
  {
   "cell_type": "code",
   "execution_count": null,
   "metadata": {},
   "outputs": [],
   "source": [
    "knn_clf = KNeighborsClassifier(n_neighbors=50, n_jobs=n_cpu-1)\n",
    "\n",
    "# Fit the classifier\n",
    "knn_clf.fit(X_train_resampled, y_train_resampled)\n",
    "\n",
    "# Predict on the test set\n",
    "preds = knn_clf.predict(X_test_scaled)\n",
    "\n",
    "print(accuracy_score(y_test, pred))\n",
    "print(precision_score(y_test, pred))\n",
    "print(recall_score(y_test, pred))\n",
    "print(f1_score(y_test, pred))"
   ]
  },
  {
   "cell_type": "markdown",
   "metadata": {},
   "source": [
    "### Hyperparametrization: Best `n_neighbors`"
   ]
  },
  {
   "cell_type": "markdown",
   "metadata": {},
   "source": [
    "## Support Vector Machine"
   ]
  },
  {
   "cell_type": "markdown",
   "metadata": {},
   "source": [
    "### Baseline Model"
   ]
  },
  {
   "cell_type": "code",
   "execution_count": null,
   "metadata": {},
   "outputs": [],
   "source": [
    "svc_clf = SVC(class_weight=class_weights, probability=False)\n",
    "svc_clf.fit(X_train_scaled, y_train)\n",
    "preds = svc_clf.predict(X_test_scaled)\n",
    "\n",
    "accuracy_score(y_test, pred)"
   ]
  },
  {
   "cell_type": "markdown",
   "metadata": {},
   "source": [
    "## Decision Tree"
   ]
  },
  {
   "cell_type": "markdown",
   "metadata": {},
   "source": [
    "## Random Forest"
   ]
  },
  {
   "cell_type": "markdown",
   "metadata": {},
   "source": [
    "## Gradient Boost "
   ]
  },
  {
   "cell_type": "markdown",
   "metadata": {},
   "source": [
    "### XGBoost "
   ]
  },
  {
   "cell_type": "markdown",
   "metadata": {},
   "source": [
    "### CatBoost"
   ]
  },
  {
   "cell_type": "markdown",
   "metadata": {},
   "source": [
    "## Grid Search "
   ]
  },
  {
   "cell_type": "markdown",
   "metadata": {},
   "source": [
    "## Final Model"
   ]
  },
  {
   "cell_type": "markdown",
   "metadata": {},
   "source": [
    "# Evaluation"
   ]
  },
  {
   "cell_type": "markdown",
   "metadata": {},
   "source": [
    "## Model Performance"
   ]
  },
  {
   "cell_type": "markdown",
   "metadata": {},
   "source": [
    "## SHAP Values"
   ]
  }
 ],
 "metadata": {
  "kernelspec": {
   "display_name": "Python (learn-env)",
   "language": "python",
   "name": "learn-env"
  },
  "language_info": {
   "codemirror_mode": {
    "name": "ipython",
    "version": 3
   },
   "file_extension": ".py",
   "mimetype": "text/x-python",
   "name": "python",
   "nbconvert_exporter": "python",
   "pygments_lexer": "ipython3",
   "version": "3.8.5"
  },
  "toc": {
   "base_numbering": 1,
   "nav_menu": {},
   "number_sections": true,
   "sideBar": true,
   "skip_h1_title": false,
   "title_cell": "Table of Contents",
   "title_sidebar": "Contents",
   "toc_cell": true,
   "toc_position": {},
   "toc_section_display": true,
   "toc_window_display": true
  }
 },
 "nbformat": 4,
 "nbformat_minor": 4
}
